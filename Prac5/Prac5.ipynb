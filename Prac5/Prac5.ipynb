{
 "cells": [
  {
   "cell_type": "code",
   "execution_count": 1,
   "metadata": {},
   "outputs": [
    {
     "name": "stdout",
     "output_type": "stream",
     "text": [
      "Ethen 2020-09-18 14:38:41 \n",
      "\n",
      "CPython 3.7.9\n",
      "IPython 7.17.0\n",
      "\n",
      "numpy 1.19.1\n",
      "scipy 1.5.2\n",
      "pandas 1.1.1\n",
      "sklearn 0.0\n",
      "matplotlib 3.3.1\n"
     ]
    }
   ],
   "source": [
    "import numpy as np\n",
    "import pandas as pd\n",
    "import matplotlib.pyplot as plt\n",
    "from scipy.linalg import svd as scipy_svd\n",
    "from sklearn.pipeline import Pipeline\n",
    "from sklearn.datasets import load_iris\n",
    "from sklearn.decomposition import PCA, TruncatedSVD\n",
    "from sklearn.preprocessing import normalize, StandardScaler\n",
    "from sklearn.feature_extraction.text import TfidfVectorizer\n",
    "\n",
    "%matplotlib inline\n",
    "%load_ext watermark\n",
    "%load_ext autoreload\n",
    "%autoreload 2\n",
    "%config InlineBackend.figure_format = 'retina'\n",
    "%watermark -a 'Ethen' -d -t -v -p numpy,scipy,pandas,sklearn,matplotlib"
   ]
  },
  {
   "cell_type": "code",
   "execution_count": 2,
   "metadata": {},
   "outputs": [
    {
     "name": "stdout",
     "output_type": "stream",
     "text": [
      "[1.24810147e+01 9.50861406e+00 1.34555971e+00 3.04642685e-16\n",
      " 0.00000000e+00]\n"
     ]
    }
   ],
   "source": [
    "A = np.array([\n",
    "    [1, 1, 1, 0, 0],\n",
    "    [3, 3, 3, 0, 0],\n",
    "    [4, 4, 4, 0, 0],\n",
    "    [5, 5, 5, 0, 0],\n",
    "    [0, 2, 0, 4, 4],\n",
    "    [0, 0, 0, 5, 5],\n",
    "    [0, 1, 0, 2, 2]])\n",
    "\n",
    "# we'll use a library to perform the svd so we can confirm our result with it\n",
    "U, S, V = scipy_svd(A, full_matrices = False)\n",
    "\n",
    "# we'll just print out S, a.k.a Sigma to show the numbers are identical to the results shown earlier\n",
    "print(S)"
   ]
  },
  {
   "cell_type": "code",
   "execution_count": 5,
   "metadata": {},
   "outputs": [
    {
     "name": "stdout",
     "output_type": "stream",
     "text": [
      "[[-1.37599126e-01 -2.36114514e-02 -1.08084718e-02  5.60112034e-01\n",
      "  -3.75734575e-01]\n",
      " [-4.12797378e-01 -7.08343543e-02 -3.24254153e-02  2.06393278e-01\n",
      "   7.55974371e-01]\n",
      " [-5.50396503e-01 -9.44458057e-02 -4.32338870e-02 -7.24808963e-01\n",
      "  -1.84603760e-01]\n",
      " [-6.87995629e-01 -1.18057257e-01 -5.40423588e-02  3.43988797e-01\n",
      "  -2.30754700e-01]\n",
      " [-1.52775087e-01  5.91100963e-01  6.53650843e-01  2.58497890e-16\n",
      "   2.00000000e-01]\n",
      " [-7.22165140e-02  7.31311857e-01 -6.78209218e-01  0.00000000e+00\n",
      "   0.00000000e+00]\n",
      " [-7.63875433e-02  2.95550482e-01  3.26825421e-01  1.29248945e-16\n",
      "  -4.00000000e-01]]\n",
      "_______________________________________________________________\n",
      "\n",
      "[[-5.62258405e-01 -5.92859901e-01 -5.62258405e-01 -9.01335372e-02\n",
      "  -9.01335372e-02]\n",
      " [-1.26641382e-01  2.87705846e-02 -1.26641382e-01  6.95376220e-01\n",
      "   6.95376220e-01]\n",
      " [-4.09667482e-01  8.04791520e-01 -4.09667482e-01 -9.12571001e-02\n",
      "  -9.12571001e-02]\n",
      " [-7.07106781e-01  1.11022302e-16  7.07106781e-01  5.55111512e-17\n",
      "   0.00000000e+00]\n",
      " [ 0.00000000e+00 -4.87723954e-17  4.87723954e-17 -7.07106781e-01\n",
      "   7.07106781e-01]]\n"
     ]
    }
   ],
   "source": [
    "print(U)\n",
    "print('_______________________________________________________________')\n",
    "print()\n",
    "print(V)"
   ]
  },
  {
   "cell_type": "code",
   "execution_count": 6,
   "metadata": {},
   "outputs": [
    {
     "name": "stdout",
     "output_type": "stream",
     "text": [
      "True\n",
      "True\n",
      "True\n"
     ]
    }
   ],
   "source": [
    "# Verify calculation of A=USV^T\n",
    "print(np.allclose(A, U @ np.diag(S) @ V))\n",
    "\n",
    "# orthonormal, columns are unit vectors (length = 1)\n",
    "print(np.allclose(np.round(np.sum(U * U, axis = 0)), np.ones(S.size)))\n",
    "\n",
    "# orthogonal, dot product of itself is equivalent to the identity matrix U^T U = I\n",
    "print(np.allclose(U.T @ U, np.eye(S.size)))"
   ]
  },
  {
   "cell_type": "code",
   "execution_count": 7,
   "metadata": {},
   "outputs": [
    {
     "name": "stdout",
     "output_type": "stream",
     "text": [
      "True\n"
     ]
    }
   ],
   "source": [
    "rank = np.linalg.matrix_rank(A)\n",
    "AtA = A.T @ A\n",
    "_, V1 = np.linalg.eig(AtA)\n",
    "\n",
    "# Note that the possible non-uniqueness of the decomposition means that an axis can be \n",
    "# flipped without changing anything fundamental, thus we compare whether the absolute \n",
    "# values are relatively close instead of the raw value\n",
    "print(np.allclose(np.abs(V1[:, :rank]), np.abs(V1[:, :rank])))"
   ]
  },
  {
   "cell_type": "code",
   "execution_count": 8,
   "metadata": {},
   "outputs": [
    {
     "data": {
      "text/plain": [
       "True"
      ]
     },
     "execution_count": 8,
     "metadata": {},
     "output_type": "execute_result"
    }
   ],
   "source": [
    "AAt = A @ A.T\n",
    "_, U1 = np.linalg.eig(AAt)\n",
    "np.allclose(np.abs(U1[:, :rank]), np.abs(U[:, :rank]))"
   ]
  },
  {
   "cell_type": "code",
   "execution_count": 9,
   "metadata": {},
   "outputs": [
    {
     "data": {
      "text/plain": [
       "array([12., 10.,  1.,  0.,  0.])"
      ]
     },
     "execution_count": 9,
     "metadata": {},
     "output_type": "execute_result"
    }
   ],
   "source": [
    "# notice that since this is a rank 3 matrix\n",
    "# only the first 3 values of 3 contains non-zero values\n",
    "np.round(S, 0)"
   ]
  },
  {
   "cell_type": "code",
   "execution_count": 10,
   "metadata": {},
   "outputs": [
    {
     "data": {
      "text/plain": [
       "(150, 4)"
      ]
     },
     "execution_count": 10,
     "metadata": {},
     "output_type": "execute_result"
    }
   ],
   "source": [
    "# use some toy dataset\n",
    "iris = load_iris()\n",
    "X = iris['data']\n",
    "\n",
    "# construct the pipeline\n",
    "standardize = StandardScaler()\n",
    "pca = PCA()\n",
    "pipeline = Pipeline([\n",
    "    ('standardize', standardize),\n",
    "    ('pca', pca)\n",
    "])\n",
    "X_pca = pipeline.fit_transform(X)\n",
    "X_pca.shape"
   ]
  },
  {
   "cell_type": "code",
   "execution_count": 11,
   "metadata": {},
   "outputs": [
    {
     "name": "stdout",
     "output_type": "stream",
     "text": [
      "True\n"
     ]
    }
   ],
   "source": [
    "standardize = pipeline.named_steps['standardize']\n",
    "X_std = standardize.transform(X)\n",
    "\n",
    "# confirm the WLW^T \n",
    "X_cov = np.cov(X_std.T)\n",
    "eigen_values, eigen_vecs = np.linalg.eig(X_cov)\n",
    "reconstructed_X = eigen_vecs @ np.diag(eigen_values) @ np.linalg.inv(eigen_vecs)\n",
    "print(np.allclose(X_cov, reconstructed_X))"
   ]
  },
  {
   "cell_type": "code",
   "execution_count": 12,
   "metadata": {},
   "outputs": [
    {
     "data": {
      "text/plain": [
       "array([[ 0.52106591, -0.26934744,  0.5804131 ,  0.56485654],\n",
       "       [ 0.37741762,  0.92329566,  0.02449161,  0.06694199],\n",
       "       [-0.71956635,  0.24438178,  0.14212637,  0.63427274],\n",
       "       [-0.26128628,  0.12350962,  0.80144925, -0.52359713]])"
      ]
     },
     "execution_count": 12,
     "metadata": {},
     "output_type": "execute_result"
    }
   ],
   "source": [
    "# here we'll print out the eigenvectors\n",
    "# learned from PCA and the V learned from svd\n",
    "pca.components_"
   ]
  },
  {
   "cell_type": "code",
   "execution_count": 13,
   "metadata": {},
   "outputs": [
    {
     "name": "stdout",
     "output_type": "stream",
     "text": [
      "[[-1.08239531e-01 -4.09957970e-02  2.72186462e-02 ...  5.43380310e-02\n",
      "   1.96438400e-03  2.46978090e-03]\n",
      " [-9.94577561e-02  5.75731483e-02  5.00034005e-02 ...  5.12936114e-03\n",
      "   8.48544595e-02  5.83496936e-03]\n",
      " [-1.12996303e-01  2.92000319e-02 -9.42089147e-03 ...  2.75184277e-02\n",
      "   1.78604309e-01  1.49419118e-01]\n",
      " ...\n",
      " [ 7.27030413e-02 -2.29793601e-02 -3.84023516e-02 ...  9.89532683e-01\n",
      "  -1.25488246e-02 -7.17729676e-04]\n",
      " [ 6.56112167e-02 -8.63643414e-02 -1.98939364e-01 ... -1.41206665e-02\n",
      "   9.52049996e-01 -2.32048811e-02]\n",
      " [ 4.59137323e-02  2.07800179e-03 -1.12588405e-01 ... -8.30595907e-04\n",
      "  -2.19201906e-02  9.77300244e-01]]\n",
      "______________________________________________________\n",
      "\n",
      "[20.92306556 11.7091661   4.69185798  1.76273239]\n",
      "______________________________________________________\n",
      "\n",
      "[[ 0.52106591 -0.26934744  0.5804131   0.56485654]\n",
      " [-0.37741762 -0.92329566 -0.02449161 -0.06694199]\n",
      " [ 0.71956635 -0.24438178 -0.14212637 -0.63427274]\n",
      " [ 0.26128628 -0.12350962 -0.80144925  0.52359713]]\n"
     ]
    }
   ],
   "source": [
    "# we can do X @ V to obtain the principal component score\n",
    "U, S, V = scipy_svd(X_std)\n",
    "print(U)\n",
    "print('______________________________________________________')\n",
    "print()\n",
    "print(S)\n",
    "print('______________________________________________________')\n",
    "print()\n",
    "print(V)"
   ]
  },
  {
   "cell_type": "code",
   "execution_count": 25,
   "metadata": {},
   "outputs": [
    {
     "data": {
      "text/plain": [
       "array([[ 0.07143456,  0.32603645],\n",
       "       [ 0.33701986,  0.13378431],\n",
       "       [ 0.21190626,  0.57355785],\n",
       "       [ 0.44734903,  0.5483403 ],\n",
       "       [ 0.71442519,  0.16818299],\n",
       "       [ 0.44608969, -0.54180734],\n",
       "       [ 0.65992211, -0.4753254 ]])"
      ]
     },
     "execution_count": 25,
     "metadata": {},
     "output_type": "execute_result"
    }
   ],
   "source": [
    "example = [\n",
    "    'Node js is super efficient',\n",
    "    'Javascript is easy to code',\n",
    "    'React and Angular js are front end frameworks',\n",
    "    'Front end development is fun',\n",
    "    'Javascript is great for Web development',\n",
    "    'I like tennis',\n",
    "    'Tennis is great to watch']\n",
    "\n",
    "# a two-staged model pipeline,\n",
    "# first convert raw words to a tfidf document-term matrix\n",
    "# and apply svd decomposition after that\n",
    "tfidf = TfidfVectorizer(stop_words = 'english')\n",
    "svd = TruncatedSVD(n_components = 2)\n",
    "pipeline = Pipeline([\n",
    "    ('tfidf', tfidf),\n",
    "    ('svd', svd)\n",
    "])\n",
    "X_lsa = pipeline.fit_transform(example)\n",
    "X_lsa"
   ]
  },
  {
   "cell_type": "code",
   "execution_count": 26,
   "metadata": {},
   "outputs": [
    {
     "data": {
      "text/html": [
       "<div>\n",
       "<style scoped>\n",
       "    .dataframe tbody tr th:only-of-type {\n",
       "        vertical-align: middle;\n",
       "    }\n",
       "\n",
       "    .dataframe tbody tr th {\n",
       "        vertical-align: top;\n",
       "    }\n",
       "\n",
       "    .dataframe thead th {\n",
       "        text-align: right;\n",
       "    }\n",
       "</style>\n",
       "<table border=\"1\" class=\"dataframe\">\n",
       "  <thead>\n",
       "    <tr style=\"text-align: right;\">\n",
       "      <th></th>\n",
       "      <th>angular</th>\n",
       "      <th>code</th>\n",
       "      <th>development</th>\n",
       "      <th>easy</th>\n",
       "      <th>efficient</th>\n",
       "      <th>end</th>\n",
       "      <th>frameworks</th>\n",
       "      <th>fun</th>\n",
       "      <th>great</th>\n",
       "      <th>javascript</th>\n",
       "      <th>js</th>\n",
       "      <th>like</th>\n",
       "      <th>node</th>\n",
       "      <th>react</th>\n",
       "      <th>super</th>\n",
       "      <th>tennis</th>\n",
       "      <th>watch</th>\n",
       "      <th>web</th>\n",
       "    </tr>\n",
       "  </thead>\n",
       "  <tbody>\n",
       "    <tr>\n",
       "      <th>concept1</th>\n",
       "      <td>0.067131</td>\n",
       "      <td>0.136232</td>\n",
       "      <td>0.384077</td>\n",
       "      <td>0.136232</td>\n",
       "      <td>0.024653</td>\n",
       "      <td>0.215342</td>\n",
       "      <td>0.067131</td>\n",
       "      <td>0.192290</td>\n",
       "      <td>0.459924</td>\n",
       "      <td>0.337544</td>\n",
       "      <td>0.076189</td>\n",
       "      <td>0.227523</td>\n",
       "      <td>0.024653</td>\n",
       "      <td>0.067131</td>\n",
       "      <td>0.024653</td>\n",
       "      <td>0.424328</td>\n",
       "      <td>0.283663</td>\n",
       "      <td>0.270405</td>\n",
       "    </tr>\n",
       "    <tr>\n",
       "      <th>concept2</th>\n",
       "      <td>0.210597</td>\n",
       "      <td>0.062679</td>\n",
       "      <td>0.288008</td>\n",
       "      <td>0.062679</td>\n",
       "      <td>0.130414</td>\n",
       "      <td>0.401578</td>\n",
       "      <td>0.210597</td>\n",
       "      <td>0.273182</td>\n",
       "      <td>-0.135327</td>\n",
       "      <td>0.113272</td>\n",
       "      <td>0.283068</td>\n",
       "      <td>-0.320288</td>\n",
       "      <td>0.130414</td>\n",
       "      <td>0.210597</td>\n",
       "      <td>0.130414</td>\n",
       "      <td>-0.462436</td>\n",
       "      <td>-0.236806</td>\n",
       "      <td>0.073779</td>\n",
       "    </tr>\n",
       "  </tbody>\n",
       "</table>\n",
       "</div>"
      ],
      "text/plain": [
       "           angular      code  development      easy  efficient       end  \\\n",
       "concept1  0.067131  0.136232     0.384077  0.136232   0.024653  0.215342   \n",
       "concept2  0.210597  0.062679     0.288008  0.062679   0.130414  0.401578   \n",
       "\n",
       "          frameworks       fun     great  javascript        js      like  \\\n",
       "concept1    0.067131  0.192290  0.459924    0.337544  0.076189  0.227523   \n",
       "concept2    0.210597  0.273182 -0.135327    0.113272  0.283068 -0.320288   \n",
       "\n",
       "              node     react     super    tennis     watch       web  \n",
       "concept1  0.024653  0.067131  0.024653  0.424328  0.283663  0.270405  \n",
       "concept2  0.130414  0.210597  0.130414 -0.462436 -0.236806  0.073779  "
      ]
     },
     "execution_count": 26,
     "metadata": {},
     "output_type": "execute_result"
    }
   ],
   "source": [
    "# mapping of words to latent factors/concepts,\n",
    "# i.e. each concept is a linear combination of words\n",
    "tfidf = pipeline.named_steps['tfidf']\n",
    "vocab = tfidf.get_feature_names()\n",
    "pd.DataFrame(svd.components_, index = ['concept1', 'concept2'], columns = vocab)"
   ]
  },
  {
   "cell_type": "code",
   "execution_count": 27,
   "metadata": {},
   "outputs": [
    {
     "name": "stdout",
     "output_type": "stream",
     "text": [
      "total variance explained: 0.22027019097551323\n"
     ]
    },
    {
     "data": {
      "text/html": [
       "<div>\n",
       "<style scoped>\n",
       "    .dataframe tbody tr th:only-of-type {\n",
       "        vertical-align: middle;\n",
       "    }\n",
       "\n",
       "    .dataframe tbody tr th {\n",
       "        vertical-align: top;\n",
       "    }\n",
       "\n",
       "    .dataframe thead th {\n",
       "        text-align: right;\n",
       "    }\n",
       "</style>\n",
       "<table border=\"1\" class=\"dataframe\">\n",
       "  <thead>\n",
       "    <tr style=\"text-align: right;\">\n",
       "      <th></th>\n",
       "      <th>concept1</th>\n",
       "      <th>concept2</th>\n",
       "    </tr>\n",
       "  </thead>\n",
       "  <tbody>\n",
       "    <tr>\n",
       "      <th>Node js is super efficient</th>\n",
       "      <td>0.071435</td>\n",
       "      <td>0.326036</td>\n",
       "    </tr>\n",
       "    <tr>\n",
       "      <th>Javascript is easy to code</th>\n",
       "      <td>0.337020</td>\n",
       "      <td>0.133784</td>\n",
       "    </tr>\n",
       "    <tr>\n",
       "      <th>React and Angular js are front end frameworks</th>\n",
       "      <td>0.211906</td>\n",
       "      <td>0.573558</td>\n",
       "    </tr>\n",
       "    <tr>\n",
       "      <th>Front end development is fun</th>\n",
       "      <td>0.447349</td>\n",
       "      <td>0.548340</td>\n",
       "    </tr>\n",
       "    <tr>\n",
       "      <th>Javascript is great for Web development</th>\n",
       "      <td>0.714425</td>\n",
       "      <td>0.168183</td>\n",
       "    </tr>\n",
       "    <tr>\n",
       "      <th>I like tennis</th>\n",
       "      <td>0.446090</td>\n",
       "      <td>-0.541807</td>\n",
       "    </tr>\n",
       "    <tr>\n",
       "      <th>Tennis is great to watch</th>\n",
       "      <td>0.659922</td>\n",
       "      <td>-0.475325</td>\n",
       "    </tr>\n",
       "  </tbody>\n",
       "</table>\n",
       "</div>"
      ],
      "text/plain": [
       "                                               concept1  concept2\n",
       "Node js is super efficient                     0.071435  0.326036\n",
       "Javascript is easy to code                     0.337020  0.133784\n",
       "React and Angular js are front end frameworks  0.211906  0.573558\n",
       "Front end development is fun                   0.447349  0.548340\n",
       "Javascript is great for Web development        0.714425  0.168183\n",
       "I like tennis                                  0.446090 -0.541807\n",
       "Tennis is great to watch                       0.659922 -0.475325"
      ]
     },
     "execution_count": 27,
     "metadata": {},
     "output_type": "execute_result"
    }
   ],
   "source": [
    "svd = pipeline.named_steps['svd']\n",
    "print('total variance explained:', np.sum(svd.explained_variance_))\n",
    "\n",
    "# mapping of document to latent factors/concepts,\n",
    "# i.e. Eech document is a linear combination of the concepts\n",
    "pd.DataFrame(X_lsa, index = example, columns = ['concept1', 'concept2'])"
   ]
  },
  {
   "cell_type": "code",
   "execution_count": 28,
   "metadata": {},
   "outputs": [
    {
     "data": {
      "text/html": [
       "<div>\n",
       "<style scoped>\n",
       "    .dataframe tbody tr th:only-of-type {\n",
       "        vertical-align: middle;\n",
       "    }\n",
       "\n",
       "    .dataframe tbody tr th {\n",
       "        vertical-align: top;\n",
       "    }\n",
       "\n",
       "    .dataframe thead th {\n",
       "        text-align: right;\n",
       "    }\n",
       "</style>\n",
       "<table border=\"1\" class=\"dataframe\">\n",
       "  <thead>\n",
       "    <tr style=\"text-align: right;\">\n",
       "      <th></th>\n",
       "      <th>Node js is super efficient</th>\n",
       "      <th>Javascript is easy to code</th>\n",
       "      <th>React and Angular js are front end frameworks</th>\n",
       "      <th>Front end development is fun</th>\n",
       "      <th>Javascript is great for Web development</th>\n",
       "      <th>I like tennis</th>\n",
       "      <th>Tennis is great to watch</th>\n",
       "    </tr>\n",
       "  </thead>\n",
       "  <tbody>\n",
       "    <tr>\n",
       "      <th>Node js is super efficient</th>\n",
       "      <td>1.000000</td>\n",
       "      <td>0.559330</td>\n",
       "      <td>0.990464</td>\n",
       "      <td>0.892191</td>\n",
       "      <td>0.432165</td>\n",
       "      <td>-0.618078</td>\n",
       "      <td>-0.397245</td>\n",
       "    </tr>\n",
       "    <tr>\n",
       "      <th>Javascript is easy to code</th>\n",
       "      <td>0.559330</td>\n",
       "      <td>1.000000</td>\n",
       "      <td>0.668202</td>\n",
       "      <td>0.873429</td>\n",
       "      <td>0.989261</td>\n",
       "      <td>0.305939</td>\n",
       "      <td>0.538543</td>\n",
       "    </tr>\n",
       "    <tr>\n",
       "      <th>React and Angular js are front end frameworks</th>\n",
       "      <td>0.990464</td>\n",
       "      <td>0.668202</td>\n",
       "      <td>1.000000</td>\n",
       "      <td>0.945909</td>\n",
       "      <td>0.552287</td>\n",
       "      <td>-0.503878</td>\n",
       "      <td>-0.267020</td>\n",
       "    </tr>\n",
       "    <tr>\n",
       "      <th>Front end development is fun</th>\n",
       "      <td>0.892191</td>\n",
       "      <td>0.873429</td>\n",
       "      <td>0.945909</td>\n",
       "      <td>1.000000</td>\n",
       "      <td>0.792877</td>\n",
       "      <td>-0.196387</td>\n",
       "      <td>0.060075</td>\n",
       "    </tr>\n",
       "    <tr>\n",
       "      <th>Javascript is great for Web development</th>\n",
       "      <td>0.432165</td>\n",
       "      <td>0.989261</td>\n",
       "      <td>0.552287</td>\n",
       "      <td>0.792877</td>\n",
       "      <td>1.000000</td>\n",
       "      <td>0.441804</td>\n",
       "      <td>0.655913</td>\n",
       "    </tr>\n",
       "    <tr>\n",
       "      <th>I like tennis</th>\n",
       "      <td>-0.618078</td>\n",
       "      <td>0.305939</td>\n",
       "      <td>-0.503878</td>\n",
       "      <td>-0.196387</td>\n",
       "      <td>0.441804</td>\n",
       "      <td>1.000000</td>\n",
       "      <td>0.966958</td>\n",
       "    </tr>\n",
       "    <tr>\n",
       "      <th>Tennis is great to watch</th>\n",
       "      <td>-0.397245</td>\n",
       "      <td>0.538543</td>\n",
       "      <td>-0.267020</td>\n",
       "      <td>0.060075</td>\n",
       "      <td>0.655913</td>\n",
       "      <td>0.966958</td>\n",
       "      <td>1.000000</td>\n",
       "    </tr>\n",
       "  </tbody>\n",
       "</table>\n",
       "</div>"
      ],
      "text/plain": [
       "                                               Node js is super efficient  \\\n",
       "Node js is super efficient                                       1.000000   \n",
       "Javascript is easy to code                                       0.559330   \n",
       "React and Angular js are front end frameworks                    0.990464   \n",
       "Front end development is fun                                     0.892191   \n",
       "Javascript is great for Web development                          0.432165   \n",
       "I like tennis                                                   -0.618078   \n",
       "Tennis is great to watch                                        -0.397245   \n",
       "\n",
       "                                               Javascript is easy to code  \\\n",
       "Node js is super efficient                                       0.559330   \n",
       "Javascript is easy to code                                       1.000000   \n",
       "React and Angular js are front end frameworks                    0.668202   \n",
       "Front end development is fun                                     0.873429   \n",
       "Javascript is great for Web development                          0.989261   \n",
       "I like tennis                                                    0.305939   \n",
       "Tennis is great to watch                                         0.538543   \n",
       "\n",
       "                                               React and Angular js are front end frameworks  \\\n",
       "Node js is super efficient                                                          0.990464   \n",
       "Javascript is easy to code                                                          0.668202   \n",
       "React and Angular js are front end frameworks                                       1.000000   \n",
       "Front end development is fun                                                        0.945909   \n",
       "Javascript is great for Web development                                             0.552287   \n",
       "I like tennis                                                                      -0.503878   \n",
       "Tennis is great to watch                                                           -0.267020   \n",
       "\n",
       "                                               Front end development is fun  \\\n",
       "Node js is super efficient                                         0.892191   \n",
       "Javascript is easy to code                                         0.873429   \n",
       "React and Angular js are front end frameworks                      0.945909   \n",
       "Front end development is fun                                       1.000000   \n",
       "Javascript is great for Web development                            0.792877   \n",
       "I like tennis                                                     -0.196387   \n",
       "Tennis is great to watch                                           0.060075   \n",
       "\n",
       "                                               Javascript is great for Web development  \\\n",
       "Node js is super efficient                                                    0.432165   \n",
       "Javascript is easy to code                                                    0.989261   \n",
       "React and Angular js are front end frameworks                                 0.552287   \n",
       "Front end development is fun                                                  0.792877   \n",
       "Javascript is great for Web development                                       1.000000   \n",
       "I like tennis                                                                 0.441804   \n",
       "Tennis is great to watch                                                      0.655913   \n",
       "\n",
       "                                               I like tennis  \\\n",
       "Node js is super efficient                         -0.618078   \n",
       "Javascript is easy to code                          0.305939   \n",
       "React and Angular js are front end frameworks      -0.503878   \n",
       "Front end development is fun                       -0.196387   \n",
       "Javascript is great for Web development             0.441804   \n",
       "I like tennis                                       1.000000   \n",
       "Tennis is great to watch                            0.966958   \n",
       "\n",
       "                                               Tennis is great to watch  \n",
       "Node js is super efficient                                    -0.397245  \n",
       "Javascript is easy to code                                     0.538543  \n",
       "React and Angular js are front end frameworks                 -0.267020  \n",
       "Front end development is fun                                   0.060075  \n",
       "Javascript is great for Web development                        0.655913  \n",
       "I like tennis                                                  0.966958  \n",
       "Tennis is great to watch                                       1.000000  "
      ]
     },
     "execution_count": 28,
     "metadata": {},
     "output_type": "execute_result"
    }
   ],
   "source": [
    "X_normed = normalize(X_lsa, axis = 1)\n",
    "similarity = X_normed @ X_normed.T\n",
    "pd.DataFrame(similarity, index = example, columns = example)"
   ]
  },
  {
   "cell_type": "code",
   "execution_count": 20,
   "metadata": {},
   "outputs": [
    {
     "data": {
      "image/png": "[encoded data removed]",
      "text/plain": [
       "<Figure size 1440x288 with 3 Axes>"
      ]
     },
     "metadata": {
      "image/png": {
       "height": 276,
       "width": 1171
      },
      "needs_background": "dark"
     },
     "output_type": "display_data"
    }
   ],
   "source": [
    "x = np.array([[-10, -10, -10, -10, 20, 20, 20, 20], [-10, 20, -10, 20, -10, 20, -10, 20], [20, -10, 20, -10, 20, -10, 20, -10], [20, 20, 20, 20, -10, -10, -10, -10]]).T\n",
    "\n",
    "# change default font size\n",
    "plt.rcParams['font.size'] = 16\n",
    "\n",
    "# the plot is not as pretty as the diagram above,\n",
    "# but hopefully it gets the point across\n",
    "fig, ax = plt.subplots(1, 3, figsize = (20, 4))\n",
    "\n",
    "ax[0].scatter(x[:, 0], x[:, 1])\n",
    "ax[0].set_title('Original matrix')\n",
    "\n",
    "temp = x @ V.T\n",
    "ax[1].scatter(temp[:, 0], temp[:, 1])\n",
    "ax[1].set_title('$V^Tx$')\n",
    "\n",
    "temp = temp @ np.diag(S)\n",
    "ax[2].scatter(temp[:, 0], temp[:, 1])\n",
    "ax[2].set_title('$SV^Tx$')\n",
    "\n",
    "plt.show()"
   ]
  },
  {
   "cell_type": "code",
   "execution_count": null,
   "metadata": {},
   "outputs": [],
   "source": []
  }
 ],
 "metadata": {
  "kernelspec": {
   "display_name": "Python 3",
   "language": "python",
   "name": "python3"
  },
  "language_info": {
   "codemirror_mode": {
    "name": "ipython",
    "version": 3
   },
   "file_extension": ".py",
   "mimetype": "text/x-python",
   "name": "python",
   "nbconvert_exporter": "python",
   "pygments_lexer": "ipython3",
   "version": "3.7.9"
  }
 },
 "nbformat": 4,
 "nbformat_minor": 4
}
