{
 "cells": [
  {
   "cell_type": "code",
   "execution_count": 1,
   "metadata": {},
   "outputs": [],
   "source": [
    "%matplotlib inline"
   ]
  },
  {
   "cell_type": "code",
   "execution_count": 2,
   "metadata": {},
   "outputs": [],
   "source": [
    "import nltk"
   ]
  },
  {
   "cell_type": "code",
   "execution_count": 3,
   "metadata": {},
   "outputs": [
    {
     "name": "stdout",
     "output_type": "stream",
     "text": [
      "showing info https://raw.githubusercontent.com/nltk/nltk_data/gh-pages/index.xml\n"
     ]
    },
    {
     "data": {
      "text/plain": [
       "True"
      ]
     },
     "execution_count": 3,
     "metadata": {},
     "output_type": "execute_result"
    }
   ],
   "source": [
    "nltk.download()"
   ]
  },
  {
   "cell_type": "code",
   "execution_count": 4,
   "metadata": {},
   "outputs": [],
   "source": [
    "moby = nltk.text.Text(nltk.corpus.gutenberg.words('melville-moby_dick.txt'))"
   ]
  },
  {
   "cell_type": "code",
   "execution_count": 5,
   "metadata": {
    "scrolled": true
   },
   "outputs": [
    {
     "name": "stdout",
     "output_type": "stream",
     "text": [
      "Displaying 10 of 11 matches:\n",
      "er , one was of a most monstrous size . ... This came t\n",
      "ALMS . \" Touching that monstrous bulk of the whale or o\n",
      " a heathenish array of monstrous clubs and spears . Som\n",
      "ed , and wondered what monstrous cannibal and savage co\n",
      "vived the flood ; most monstrous and most mountainous !\n",
      "cout at Moby Dick as a monstrous fable , or still worse\n",
      " .'\" CHAPTER 55 Of the Monstrous Pictures of Whales . I\n",
      " In connexion with the monstrous pictures of whales , I\n",
      " upon those still more monstrous stories of them which \n",
      "n rummaged out of this monstrous cabinet there is no te\n"
     ]
    }
   ],
   "source": [
    "moby.concordance(\"monstrous\", 55, lines=10)"
   ]
  },
  {
   "cell_type": "code",
   "execution_count": 7,
   "metadata": {},
   "outputs": [
    {
     "name": "stdout",
     "output_type": "stream",
     "text": [
      "it he that queequeg stubb him there starbuck i what man and all then\n",
      "this me peleg which here you\n",
      "None\n",
      "\n",
      "very so exceedingly heartily a as good great extremely remarkably\n",
      "sweet vast amazingly\n",
      "None\n"
     ]
    }
   ],
   "source": [
    "print(moby.similar(\"ahab\"))\n",
    "austen = nltk.text.Text(nltk.corpus.gutenberg.words('austen-sense.txt'))\n",
    "print()\n",
    "print(austen.similar(\"monstrous\"))"
   ]
  },
  {
   "cell_type": "code",
   "execution_count": 8,
   "metadata": {},
   "outputs": [
    {
     "name": "stdout",
     "output_type": "stream",
     "text": [
      "of_s by_s cried_give at_s but_s to_the with_the murmured_gazing to_s\n",
      "and_s cried_let cried_look of_and in_the cried_to\n"
     ]
    }
   ],
   "source": [
    "moby.common_contexts([\"ahab\", \"starbuck\"])"
   ]
  },
  {
   "cell_type": "code",
   "execution_count": 9,
   "metadata": {},
   "outputs": [
    {
     "data": {
      "image/png": "[encoded data removed]",
      "text/plain": [
       "<Figure size 432x288 with 1 Axes>"
      ]
     },
     "metadata": {
      "needs_background": "light"
     },
     "output_type": "display_data"
    }
   ],
   "source": [
    "inaugural = nltk.text.Text(nltk.corpus.inaugural.words())\n",
    "inaugural.dispersion_plot([\"citizens\", \"democracy\", \"freedom\", \"duties\", \"America\"])"
   ]
  },
  {
   "cell_type": "code",
   "execution_count": 11,
   "metadata": {},
   "outputs": [
    {
     "name": "stdout",
     "output_type": "stream",
     "text": [
      "abc\n",
      "alpino\n",
      "brown\n",
      "cess_cat\n",
      "cess_esp\n",
      "cmudict\n",
      "comparative_sentences\n",
      "comtrans\n",
      "conll2000\n",
      "conll2002\n",
      "conll2007\n",
      "crubadan\n",
      "demo\n",
      "dependency_treebank\n",
      "find_corpus_fileids\n",
      "floresta\n",
      "framenet\n",
      "framenet15\n",
      "gazetteers\n",
      "genesis\n",
      "gutenberg\n",
      "ieer\n",
      "inaugural\n",
      "indian\n",
      "jeita\n",
      "knbc\n",
      "lin_thesaurus\n",
      "mac_morpho\n",
      "machado\n",
      "masc_tagged\n",
      "movie_reviews\n",
      "multext_east\n",
      "names\n",
      "nombank\n",
      "nombank_ptb\n",
      "nonbreaking_prefixes\n",
      "nps_chat\n",
      "opinion_lexicon\n",
      "perluniprops\n",
      "ppattach\n",
      "product_reviews_1\n",
      "product_reviews_2\n",
      "propbank\n",
      "propbank_ptb\n",
      "pros_cons\n",
      "ptb\n",
      "qc\n",
      "re\n",
      "reader\n",
      "reuters\n",
      "rte\n",
      "semcor\n",
      "senseval\n",
      "sentence_polarity\n",
      "sentiwordnet\n",
      "shakespeare\n",
      "sinica_treebank\n",
      "state_union\n",
      "stopwords\n",
      "subjectivity\n",
      "swadesh\n",
      "swadesh110\n",
      "swadesh207\n",
      "switchboard\n",
      "tagged_treebank_para_block_reader\n",
      "teardown_module\n",
      "timit\n",
      "timit_tagged\n",
      "toolbox\n",
      "treebank\n",
      "treebank_chunk\n",
      "treebank_raw\n",
      "twitter_samples\n",
      "udhr\n",
      "udhr2\n",
      "universal_treebanks\n",
      "util\n",
      "verbnet\n",
      "webtext\n",
      "wordnet\n",
      "wordnet_ic\n",
      "words\n"
     ]
    }
   ],
   "source": [
    "# Lists the various corpora and CorpusReader classes in the nltk.corpus module\n",
    "for name in dir(nltk.corpus):\n",
    "    if name.islower() and not name.startswith('_'): print(name)"
   ]
  },
  {
   "cell_type": "code",
   "execution_count": 13,
   "metadata": {},
   "outputs": [
    {
     "name": "stdout",
     "output_type": "stream",
     "text": [
      "['a_and_c.xml', 'dream.xml', 'hamlet.xml', 'j_caesar.xml', 'macbeth.xml', 'merchant.xml', 'othello.xml', 'r_and_j.xml']\n"
     ]
    }
   ],
   "source": [
    "# For a specific corpus, list the fileids that are available:\n",
    "print(nltk.corpus.shakespeare.fileids())"
   ]
  },
  {
   "cell_type": "code",
   "execution_count": 14,
   "metadata": {},
   "outputs": [
    {
     "name": "stdout",
     "output_type": "stream",
     "text": [
      "['austen-emma.txt', 'austen-persuasion.txt', 'austen-sense.txt', 'bible-kjv.txt', 'blake-poems.txt', 'bryant-stories.txt', 'burgess-busterbrown.txt', 'carroll-alice.txt', 'chesterton-ball.txt', 'chesterton-brown.txt', 'chesterton-thursday.txt', 'edgeworth-parents.txt', 'melville-moby_dick.txt', 'milton-paradise.txt', 'shakespeare-caesar.txt', 'shakespeare-hamlet.txt', 'shakespeare-macbeth.txt', 'whitman-leaves.txt']\n"
     ]
    }
   ],
   "source": [
    "print(nltk.corpus.gutenberg.fileids())"
   ]
  },
  {
   "cell_type": "code",
   "execution_count": 16,
   "metadata": {},
   "outputs": [
    {
     "name": "stdout",
     "output_type": "stream",
     "text": [
      "['arabic', 'azerbaijani', 'danish', 'dutch', 'english', 'finnish', 'french', 'german', 'greek', 'hungarian', 'indonesian', 'italian', 'kazakh', 'nepali', 'norwegian', 'portuguese', 'romanian', 'russian', 'slovene', 'spanish', 'swedish', 'tajik', 'turkish']\n",
      "!\"#$%&'()*+,-./:;<=>?@[\\]^_`{|}~\n"
     ]
    }
   ],
   "source": [
    "print(nltk.corpus.stopwords.fileids())\n",
    "nltk.corpus.stopwords.words('english')\n",
    "import string\n",
    "print(string.punctuation)"
   ]
  },
  {
   "cell_type": "code",
   "execution_count": 17,
   "metadata": {},
   "outputs": [
    {
     "name": "stdout",
     "output_type": "stream",
     "text": [
      "[[['The', 'Fulton', 'County', 'Grand', 'Jury', 'said', 'Friday', 'an', 'investigation', 'of', \"Atlanta's\", 'recent', 'primary', 'election', 'produced', '``', 'no', 'evidence', \"''\", 'that', 'any', 'irregularities', 'took', 'place', '.']], [['The', 'jury', 'further', 'said', 'in', 'term-end', 'presentments', 'that', 'the', 'City', 'Executive', 'Committee', ',', 'which', 'had', 'over-all', 'charge', 'of', 'the', 'election', ',', '``', 'deserves', 'the', 'praise', 'and', 'thanks', 'of', 'the', 'City', 'of', 'Atlanta', \"''\", 'for', 'the', 'manner', 'in', 'which', 'the', 'election', 'was', 'conducted', '.']], ...]\n"
     ]
    }
   ],
   "source": [
    "corpus = nltk.corpus.brown\n",
    "print(corpus.paras())"
   ]
  },
  {
   "cell_type": "code",
   "execution_count": 18,
   "metadata": {},
   "outputs": [
    {
     "name": "stdout",
     "output_type": "stream",
     "text": [
      "[['The', 'Fulton', 'County', 'Grand', 'Jury', 'said', 'Friday', 'an', 'investigation', 'of', \"Atlanta's\", 'recent', 'primary', 'election', 'produced', '``', 'no', 'evidence', \"''\", 'that', 'any', 'irregularities', 'took', 'place', '.'], ['The', 'jury', 'further', 'said', 'in', 'term-end', 'presentments', 'that', 'the', 'City', 'Executive', 'Committee', ',', 'which', 'had', 'over-all', 'charge', 'of', 'the', 'election', ',', '``', 'deserves', 'the', 'praise', 'and', 'thanks', 'of', 'the', 'City', 'of', 'Atlanta', \"''\", 'for', 'the', 'manner', 'in', 'which', 'the', 'election', 'was', 'conducted', '.'], ...]\n"
     ]
    }
   ],
   "source": [
    "print(corpus.sents())"
   ]
  },
  {
   "cell_type": "code",
   "execution_count": 19,
   "metadata": {},
   "outputs": [
    {
     "name": "stdout",
     "output_type": "stream",
     "text": [
      "['The', 'Fulton', 'County', 'Grand', 'Jury', 'said', ...]\n"
     ]
    }
   ],
   "source": [
    "print(corpus.words())"
   ]
  },
  {
   "cell_type": "code",
   "execution_count": 20,
   "metadata": {},
   "outputs": [
    {
     "name": "stdout",
     "output_type": "stream",
     "text": [
      "\n",
      "\n",
      "\tThe/at Fulton/np-tl County/nn-tl Grand/jj-tl Jury/nn-tl said/vbd Friday/nr an/at investigation/nn of/in Atlanta's/np$ recent/jj primary/nn election/nn produced/vbd ``/`` no/at evidence/nn ''/'' tha\n"
     ]
    }
   ],
   "source": [
    "print(corpus.raw()[:200]) # Be careful!"
   ]
  },
  {
   "cell_type": "code",
   "execution_count": 21,
   "metadata": {},
   "outputs": [
    {
     "name": "stdout",
     "output_type": "stream",
     "text": [
      "Corpus has 41600 types and 1720901 tokens for a lexical diversity of 41.368\n"
     ]
    }
   ],
   "source": [
    "reuters = nltk.corpus.reuters # Corpus of news articles\n",
    "counts  = nltk.FreqDist(reuters.words())\n",
    "vocab   = len(counts.keys())\n",
    "words   = sum(counts.values())\n",
    "lexdiv  = float(words) / float(vocab)\n",
    "\n",
    "print(\"Corpus has %i types and %i tokens for a lexical diversity of %0.3f\" % (vocab, words, lexdiv))"
   ]
  },
  {
   "cell_type": "code",
   "execution_count": 22,
   "metadata": {},
   "outputs": [
    {
     "data": {
      "text/plain": [
       "41600"
      ]
     },
     "execution_count": 22,
     "metadata": {},
     "output_type": "execute_result"
    }
   ],
   "source": [
    "counts.B()"
   ]
  },
  {
   "cell_type": "code",
   "execution_count": 23,
   "metadata": {},
   "outputs": [
    {
     "name": "stdout",
     "output_type": "stream",
     "text": [
      "[('.', 94687), (',', 72360), ('the', 58251), ('of', 35979), ('to', 34035), ('in', 26478), ('said', 25224), ('and', 25043), ('a', 23492), ('mln', 18037), ('vs', 14120), ('-', 13705), ('for', 12785), ('dlrs', 11730), (\"'\", 11272), ('The', 10968), ('000', 10277), ('1', 9977), ('s', 9298), ('pct', 9093), ('it', 8842), (';', 8762), ('&', 8698), ('lt', 8694), ('on', 8556), ('from', 7986), ('cts', 7953), ('is', 7580), ('>', 7449), ('that', 7377), ('its', 7265), ('by', 6872), ('\"', 6816), ('at', 6537), ('2', 6528), ('U', 6388), ('S', 6382), ('year', 6310), ('be', 6288), ('with', 5945)]\n"
     ]
    }
   ],
   "source": [
    "print(counts.most_common(40))  # The n most common tokens in the corpus"
   ]
  },
  {
   "cell_type": "code",
   "execution_count": 24,
   "metadata": {},
   "outputs": [
    {
     "name": "stdout",
     "output_type": "stream",
     "text": [
      ".\n"
     ]
    }
   ],
   "source": [
    "print(counts.max()) # The most frequent token in the corpus"
   ]
  },
  {
   "cell_type": "code",
   "execution_count": 25,
   "metadata": {},
   "outputs": [
    {
     "name": "stdout",
     "output_type": "stream",
     "text": [
      "['RIFT', 'Mounting', 'inflict', 'Move', 'Unofficial', 'Sheen', 'Safe', 'avowed', 'VERMIN', 'EAT']\n"
     ]
    }
   ],
   "source": [
    "print(counts.hapaxes()[0:10])  # A list of all hapax legomena "
   ]
  },
  {
   "cell_type": "code",
   "execution_count": 26,
   "metadata": {},
   "outputs": [
    {
     "data": {
      "text/plain": [
       "5.810909517746808e-05"
      ]
     },
     "execution_count": 26,
     "metadata": {},
     "output_type": "execute_result"
    }
   ],
   "source": [
    "counts.freq('stipulate') * 100 # percentage of the corpus for this token"
   ]
  },
  {
   "cell_type": "code",
   "execution_count": 27,
   "metadata": {},
   "outputs": [
    {
     "data": {
      "image/png": "[encoded data removed]",
      "text/plain": [
       "<Figure size 432x288 with 1 Axes>"
      ]
     },
     "metadata": {
      "needs_background": "light"
     },
     "output_type": "display_data"
    },
    {
     "data": {
      "text/plain": [
       "<matplotlib.axes._subplots.AxesSubplot at 0x7f7955afb370>"
      ]
     },
     "execution_count": 27,
     "metadata": {},
     "output_type": "execute_result"
    }
   ],
   "source": [
    "counts.plot(200, cumulative=False)"
   ]
  },
  {
   "cell_type": "code",
   "execution_count": 28,
   "metadata": {},
   "outputs": [
    {
     "name": "stdout",
     "output_type": "stream",
     "text": [
      "adventure: 8874 types with 69342 tokens and lexical diveristy of 7.814\n",
      "belles_lettres: 18421 types with 173096 tokens and lexical diveristy of 9.397\n",
      "editorial: 9890 types with 61604 tokens and lexical diveristy of 6.229\n",
      "fiction: 9302 types with 68488 tokens and lexical diveristy of 7.363\n",
      "government: 8181 types with 70117 tokens and lexical diveristy of 8.571\n",
      "hobbies: 11935 types with 82345 tokens and lexical diveristy of 6.899\n",
      "humor: 5017 types with 21695 tokens and lexical diveristy of 4.324\n",
      "learned: 16859 types with 181888 tokens and lexical diveristy of 10.789\n",
      "lore: 14503 types with 110299 tokens and lexical diveristy of 7.605\n",
      "mystery: 6982 types with 57169 tokens and lexical diveristy of 8.188\n",
      "news: 14394 types with 100554 tokens and lexical diveristy of 6.986\n",
      "religion: 6373 types with 39399 tokens and lexical diveristy of 6.182\n",
      "reviews: 8626 types with 40704 tokens and lexical diveristy of 4.719\n",
      "romance: 8452 types with 70022 tokens and lexical diveristy of 8.285\n",
      "science_fiction: 3233 types with 14470 tokens and lexical diveristy of 4.476\n"
     ]
    }
   ],
   "source": [
    "from itertools import chain \n",
    "\n",
    "brown = nltk.corpus.brown\n",
    "categories = brown.categories()\n",
    "\n",
    "counts = nltk.ConditionalFreqDist(chain(*[[(cat, word) for word in brown.words(categories=cat)] for cat in categories]))\n",
    "\n",
    "for category, dist in counts.items():\n",
    "    vocab  = len(dist.keys())\n",
    "    tokens = sum(dist.values())\n",
    "    lexdiv = float(tokens) / float(vocab)\n",
    "    print(\"%s: %i types with %i tokens and lexical diveristy of %0.3f\" % (category, vocab, tokens, lexdiv))"
   ]
  },
  {
   "cell_type": "code",
   "execution_count": 29,
   "metadata": {},
   "outputs": [
    {
     "name": "stdout",
     "output_type": "stream",
     "text": [
      "('The', 'bear', 'walked', 'in', 'the')\n",
      "('bear', 'walked', 'in', 'the', 'woods')\n",
      "('walked', 'in', 'the', 'woods', 'at')\n",
      "('in', 'the', 'woods', 'at', 'midnight')\n"
     ]
    }
   ],
   "source": [
    "for ngram in nltk.ngrams([\"The\", \"bear\", \"walked\", \"in\", \"the\", \"woods\", \"at\", \"midnight\"], 5):\n",
    "    print(ngram)\n",
    "\n",
    "    "
   ]
  },
  {
   "cell_type": "code",
   "execution_count": 30,
   "metadata": {},
   "outputs": [
    {
     "name": "stdout",
     "output_type": "stream",
     "text": [
      "Medical personnel returning to New York and New Jersey from the Ebola-riddled countries in West Africa will be automatically quarantined if they had direct contact with an infected person, officials announced Friday.\n",
      "\n",
      "New York Gov.\n",
      "\n",
      "Andrew Cuomo (D) and New Jersey Gov.\n",
      "\n",
      "Chris Christie (R) announced the decision at a joint news conference Friday at 7 World Trade Center.\n",
      "\n",
      "“We have to do more,” Cuomo said.\n",
      "\n",
      "“It’s too serious of a situation to leave it to the honor system of compliance.” They said that public-health officials at John F. Kennedy and Newark Liberty international airports, where enhanced screening for Ebola is taking place, would make the determination on who would be quarantined.\n",
      "\n",
      "Anyone who had direct contact with an Ebola patient in Liberia, Sierra Leone or Guinea will be quarantined.\n",
      "\n",
      "In addition, anyone who traveled there but had no such contact would be actively monitored and possibly quarantined, authorities said.\n",
      "\n",
      "This news came a day after a doctor who had treated Ebola patients in Guinea was diagnosed in Manhattan, becoming the fourth person diagnosed with the virus in the United States and the first outside of Dallas.\n",
      "\n",
      "And the decision came not long after a health-care worker who had treated Ebola patients arrived at Newark, one of five airports where people traveling from West Africa to the United States are encountering the stricter screening rules.\n",
      "\n"
     ]
    }
   ],
   "source": [
    "text = u\"Medical personnel returning to New York and New Jersey from the Ebola-riddled countries in West Africa will be automatically quarantined if they had direct contact with an infected person, officials announced Friday. New York Gov. Andrew Cuomo (D) and New Jersey Gov. Chris Christie (R) announced the decision at a joint news conference Friday at 7 World Trade Center. “We have to do more,” Cuomo said. “It’s too serious of a situation to leave it to the honor system of compliance.” They said that public-health officials at John F. Kennedy and Newark Liberty international airports, where enhanced screening for Ebola is taking place, would make the determination on who would be quarantined. Anyone who had direct contact with an Ebola patient in Liberia, Sierra Leone or Guinea will be quarantined. In addition, anyone who traveled there but had no such contact would be actively monitored and possibly quarantined, authorities said. This news came a day after a doctor who had treated Ebola patients in Guinea was diagnosed in Manhattan, becoming the fourth person diagnosed with the virus in the United States and the first outside of Dallas. And the decision came not long after a health-care worker who had treated Ebola patients arrived at Newark, one of five airports where people traveling from West Africa to the United States are encountering the stricter screening rules.\"\n",
    "\n",
    "for sent in nltk.sent_tokenize(text): \n",
    "    print(sent)\n",
    "    print()\n"
   ]
  },
  {
   "cell_type": "code",
   "execution_count": 31,
   "metadata": {},
   "outputs": [
    {
     "name": "stdout",
     "output_type": "stream",
     "text": [
      "['Medical', 'personnel', 'returning', 'to', 'New', 'York', 'and', 'New', 'Jersey', 'from', 'the', 'Ebola', '-', 'riddled', 'countries', 'in', 'West', 'Africa', 'will', 'be', 'automatically', 'quarantined', 'if', 'they', 'had', 'direct', 'contact', 'with', 'an', 'infected', 'person', ',', 'officials', 'announced', 'Friday', '.']\n",
      "\n",
      "['New', 'York', 'Gov', '.']\n",
      "\n",
      "['Andrew', 'Cuomo', '(', 'D', ')', 'and', 'New', 'Jersey', 'Gov', '.']\n",
      "\n",
      "['Chris', 'Christie', '(', 'R', ')', 'announced', 'the', 'decision', 'at', 'a', 'joint', 'news', 'conference', 'Friday', 'at', '7', 'World', 'Trade', 'Center', '.']\n",
      "\n",
      "['“', 'We', 'have', 'to', 'do', 'more', ',”', 'Cuomo', 'said', '.']\n",
      "\n",
      "['“', 'It', '’', 's', 'too', 'serious', 'of', 'a', 'situation', 'to', 'leave', 'it', 'to', 'the', 'honor', 'system', 'of', 'compliance', '.”', 'They', 'said', 'that', 'public', '-', 'health', 'officials', 'at', 'John', 'F', '.', 'Kennedy', 'and', 'Newark', 'Liberty', 'international', 'airports', ',', 'where', 'enhanced', 'screening', 'for', 'Ebola', 'is', 'taking', 'place', ',', 'would', 'make', 'the', 'determination', 'on', 'who', 'would', 'be', 'quarantined', '.']\n",
      "\n",
      "['Anyone', 'who', 'had', 'direct', 'contact', 'with', 'an', 'Ebola', 'patient', 'in', 'Liberia', ',', 'Sierra', 'Leone', 'or', 'Guinea', 'will', 'be', 'quarantined', '.']\n",
      "\n",
      "['In', 'addition', ',', 'anyone', 'who', 'traveled', 'there', 'but', 'had', 'no', 'such', 'contact', 'would', 'be', 'actively', 'monitored', 'and', 'possibly', 'quarantined', ',', 'authorities', 'said', '.']\n",
      "\n",
      "['This', 'news', 'came', 'a', 'day', 'after', 'a', 'doctor', 'who', 'had', 'treated', 'Ebola', 'patients', 'in', 'Guinea', 'was', 'diagnosed', 'in', 'Manhattan', ',', 'becoming', 'the', 'fourth', 'person', 'diagnosed', 'with', 'the', 'virus', 'in', 'the', 'United', 'States', 'and', 'the', 'first', 'outside', 'of', 'Dallas', '.']\n",
      "\n",
      "['And', 'the', 'decision', 'came', 'not', 'long', 'after', 'a', 'health', '-', 'care', 'worker', 'who', 'had', 'treated', 'Ebola', 'patients', 'arrived', 'at', 'Newark', ',', 'one', 'of', 'five', 'airports', 'where', 'people', 'traveling', 'from', 'West', 'Africa', 'to', 'the', 'United', 'States', 'are', 'encountering', 'the', 'stricter', 'screening', 'rules', '.']\n",
      "\n"
     ]
    }
   ],
   "source": [
    "for sent in nltk.sent_tokenize(text):\n",
    "    print(list(nltk.wordpunct_tokenize(sent)))\n",
    "    print()"
   ]
  },
  {
   "cell_type": "code",
   "execution_count": 32,
   "metadata": {},
   "outputs": [
    {
     "name": "stdout",
     "output_type": "stream",
     "text": [
      "[('Medical', 'JJ'), ('personnel', 'NNS'), ('returning', 'VBG'), ('to', 'TO'), ('New', 'NNP'), ('York', 'NNP'), ('and', 'CC'), ('New', 'NNP'), ('Jersey', 'NNP'), ('from', 'IN'), ('the', 'DT'), ('Ebola-riddled', 'JJ'), ('countries', 'NNS'), ('in', 'IN'), ('West', 'NNP'), ('Africa', 'NNP'), ('will', 'MD'), ('be', 'VB'), ('automatically', 'RB'), ('quarantined', 'VBN'), ('if', 'IN'), ('they', 'PRP'), ('had', 'VBD'), ('direct', 'JJ'), ('contact', 'NN'), ('with', 'IN'), ('an', 'DT'), ('infected', 'JJ'), ('person', 'NN'), (',', ','), ('officials', 'NNS'), ('announced', 'VBD'), ('Friday', 'NNP'), ('.', '.')]\n",
      "\n",
      "[('New', 'NNP'), ('York', 'NNP'), ('Gov', 'NNP'), ('.', '.')]\n",
      "\n",
      "[('Andrew', 'NNP'), ('Cuomo', 'NNP'), ('(', '('), ('D', 'NNP'), (')', ')'), ('and', 'CC'), ('New', 'NNP'), ('Jersey', 'NNP'), ('Gov', 'NNP'), ('.', '.')]\n",
      "\n",
      "[('Chris', 'NNP'), ('Christie', 'NNP'), ('(', '('), ('R', 'NNP'), (')', ')'), ('announced', 'VBD'), ('the', 'DT'), ('decision', 'NN'), ('at', 'IN'), ('a', 'DT'), ('joint', 'JJ'), ('news', 'NN'), ('conference', 'NN'), ('Friday', 'NNP'), ('at', 'IN'), ('7', 'CD'), ('World', 'NNP'), ('Trade', 'NNP'), ('Center', 'NNP'), ('.', '.')]\n",
      "\n",
      "[('“', 'NN'), ('We', 'PRP'), ('have', 'VBP'), ('to', 'TO'), ('do', 'VB'), ('more', 'JJR'), (',', ','), ('”', 'NNP'), ('Cuomo', 'NNP'), ('said', 'VBD'), ('.', '.')]\n",
      "\n",
      "[('“', 'VB'), ('It', 'PRP'), ('’', 'JJ'), ('s', 'VBD'), ('too', 'RB'), ('serious', 'JJ'), ('of', 'IN'), ('a', 'DT'), ('situation', 'NN'), ('to', 'TO'), ('leave', 'VB'), ('it', 'PRP'), ('to', 'TO'), ('the', 'DT'), ('honor', 'NN'), ('system', 'NN'), ('of', 'IN'), ('compliance.', 'NN'), ('”', 'NN'), ('They', 'PRP'), ('said', 'VBD'), ('that', 'IN'), ('public-health', 'NN'), ('officials', 'NNS'), ('at', 'IN'), ('John', 'NNP'), ('F.', 'NNP'), ('Kennedy', 'NNP'), ('and', 'CC'), ('Newark', 'NNP'), ('Liberty', 'NNP'), ('international', 'JJ'), ('airports', 'NNS'), (',', ','), ('where', 'WRB'), ('enhanced', 'VBN'), ('screening', 'NN'), ('for', 'IN'), ('Ebola', 'NNP'), ('is', 'VBZ'), ('taking', 'VBG'), ('place', 'NN'), (',', ','), ('would', 'MD'), ('make', 'VB'), ('the', 'DT'), ('determination', 'NN'), ('on', 'IN'), ('who', 'WP'), ('would', 'MD'), ('be', 'VB'), ('quarantined', 'VBN'), ('.', '.')]\n",
      "\n",
      "[('Anyone', 'NN'), ('who', 'WP'), ('had', 'VBD'), ('direct', 'JJ'), ('contact', 'NN'), ('with', 'IN'), ('an', 'DT'), ('Ebola', 'NNP'), ('patient', 'NN'), ('in', 'IN'), ('Liberia', 'NNP'), (',', ','), ('Sierra', 'NNP'), ('Leone', 'NNP'), ('or', 'CC'), ('Guinea', 'NNP'), ('will', 'MD'), ('be', 'VB'), ('quarantined', 'VBN'), ('.', '.')]\n",
      "\n",
      "[('In', 'IN'), ('addition', 'NN'), (',', ','), ('anyone', 'NN'), ('who', 'WP'), ('traveled', 'VBD'), ('there', 'RB'), ('but', 'CC'), ('had', 'VBD'), ('no', 'DT'), ('such', 'JJ'), ('contact', 'NN'), ('would', 'MD'), ('be', 'VB'), ('actively', 'RB'), ('monitored', 'VBN'), ('and', 'CC'), ('possibly', 'RB'), ('quarantined', 'VBD'), (',', ','), ('authorities', 'NNS'), ('said', 'VBD'), ('.', '.')]\n",
      "\n",
      "[('This', 'DT'), ('news', 'NN'), ('came', 'VBD'), ('a', 'DT'), ('day', 'NN'), ('after', 'IN'), ('a', 'DT'), ('doctor', 'NN'), ('who', 'WP'), ('had', 'VBD'), ('treated', 'VBN'), ('Ebola', 'NNP'), ('patients', 'NNS'), ('in', 'IN'), ('Guinea', 'NNP'), ('was', 'VBD'), ('diagnosed', 'VBN'), ('in', 'IN'), ('Manhattan', 'NNP'), (',', ','), ('becoming', 'VBG'), ('the', 'DT'), ('fourth', 'JJ'), ('person', 'NN'), ('diagnosed', 'VBD'), ('with', 'IN'), ('the', 'DT'), ('virus', 'NN'), ('in', 'IN'), ('the', 'DT'), ('United', 'NNP'), ('States', 'NNPS'), ('and', 'CC'), ('the', 'DT'), ('first', 'JJ'), ('outside', 'NN'), ('of', 'IN'), ('Dallas', 'NNP'), ('.', '.')]\n",
      "\n",
      "[('And', 'CC'), ('the', 'DT'), ('decision', 'NN'), ('came', 'VBD'), ('not', 'RB'), ('long', 'RB'), ('after', 'IN'), ('a', 'DT'), ('health-care', 'JJ'), ('worker', 'NN'), ('who', 'WP'), ('had', 'VBD'), ('treated', 'VBN'), ('Ebola', 'NNP'), ('patients', 'NNS'), ('arrived', 'VBD'), ('at', 'IN'), ('Newark', 'NNP'), (',', ','), ('one', 'CD'), ('of', 'IN'), ('five', 'CD'), ('airports', 'NNS'), ('where', 'WRB'), ('people', 'NNS'), ('traveling', 'VBG'), ('from', 'IN'), ('West', 'NNP'), ('Africa', 'NNP'), ('to', 'TO'), ('the', 'DT'), ('United', 'NNP'), ('States', 'NNPS'), ('are', 'VBP'), ('encountering', 'VBG'), ('the', 'DT'), ('stricter', 'NN'), ('screening', 'NN'), ('rules', 'NNS'), ('.', '.')]\n",
      "\n"
     ]
    }
   ],
   "source": [
    "for sent in nltk.sent_tokenize(text):\n",
    "    print(list(nltk.pos_tag(nltk.word_tokenize(sent))))\n",
    "    print()"
   ]
  },
  {
   "cell_type": "code",
   "execution_count": 33,
   "metadata": {},
   "outputs": [
    {
     "name": "stdout",
     "output_type": "stream",
     "text": [
      "the women run in the fog pass bunni work as comput scientist .\n",
      "the wom run in the fog pass bunny work as comput sci .\n",
      "the women run in the fog pass bunni work as comput scientist .\n"
     ]
    }
   ],
   "source": [
    "from nltk.stem.snowball import SnowballStemmer\n",
    "from nltk.stem.lancaster import LancasterStemmer\n",
    "from nltk.stem.porter import PorterStemmer\n",
    "\n",
    "text = list(nltk.word_tokenize(\"The women running in the fog passed bunnies working as computer scientists.\"))\n",
    "\n",
    "snowball = SnowballStemmer('english')\n",
    "lancaster = LancasterStemmer()\n",
    "porter = PorterStemmer()\n",
    "\n",
    "for stemmer in (snowball, lancaster, porter):\n",
    "    stemmed_text = [stemmer.stem(t) for t in text]\n",
    "    print(\" \".join(stemmed_text))"
   ]
  },
  {
   "cell_type": "code",
   "execution_count": 35,
   "metadata": {},
   "outputs": [
    {
     "name": "stdout",
     "output_type": "stream",
     "text": [
      "The woman running in the fog passed bunny working a computer scientist .\n"
     ]
    }
   ],
   "source": [
    "from nltk.stem.wordnet import WordNetLemmatizer\n",
    "\n",
    "lemmatizer = WordNetLemmatizer()\n",
    "lemmas = [lemmatizer.lemmatize(t) for t in text]\n",
    "print(\" \".join(lemmas))"
   ]
  },
  {
   "cell_type": "code",
   "execution_count": 36,
   "metadata": {},
   "outputs": [
    {
     "name": "stdout",
     "output_type": "stream",
     "text": [
      "['eagle', 'fly', 'midnight']\n"
     ]
    }
   ],
   "source": [
    "import string\n",
    "\n",
    "## Module constants\n",
    "lemmatizer  = WordNetLemmatizer()\n",
    "stopwords   = set(nltk.corpus.stopwords.words('english'))\n",
    "punctuation = string.punctuation\n",
    "\n",
    "def normalize(text):\n",
    "    for token in nltk.word_tokenize(text):\n",
    "        token = token.lower()\n",
    "        token = lemmatizer.lemmatize(token)\n",
    "        if token not in stopwords and token not in punctuation:\n",
    "            yield token\n",
    "\n",
    "print(list(normalize(\"The eagle flies at midnight.\")))"
   ]
  },
  {
   "cell_type": "code",
   "execution_count": 37,
   "metadata": {},
   "outputs": [
    {
     "name": "stdout",
     "output_type": "stream",
     "text": [
      "(S\n",
      "  (PERSON John/NNP)\n",
      "  (PERSON Smith/NNP)\n",
      "  is/VBZ\n",
      "  from/IN\n",
      "  the/DT\n",
      "  (GPE United/NNP States/NNPS)\n",
      "  of/IN\n",
      "  (GPE America/NNP)\n",
      "  and/CC\n",
      "  works/VBZ\n",
      "  at/IN\n",
      "  (ORGANIZATION Microsoft/NNP Research/NNP Labs/NNP))\n"
     ]
    }
   ],
   "source": [
    "print(nltk.ne_chunk(nltk.pos_tag(nltk.word_tokenize(\"John Smith is from the United States of America and works at Microsoft Research Labs\"))))"
   ]
  },
  {
   "cell_type": "code",
   "execution_count": null,
   "metadata": {},
   "outputs": [],
   "source": []
  }
 ],
 "metadata": {
  "kernelspec": {
   "display_name": "Python 3",
   "language": "python",
   "name": "python3"
  },
  "language_info": {
   "codemirror_mode": {
    "name": "ipython",
    "version": 3
   },
   "file_extension": ".py",
   "mimetype": "text/x-python",
   "name": "python",
   "nbconvert_exporter": "python",
   "pygments_lexer": "ipython3",
   "version": "3.7.9"
  }
 },
 "nbformat": 4,
 "nbformat_minor": 1
}
