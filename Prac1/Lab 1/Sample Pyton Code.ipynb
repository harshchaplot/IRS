{
 "cells": [
  {
   "cell_type": "markdown",
   "metadata": {},
   "source": [
    "# Practical 1 - Task 3\n",
    "### The function below will append the file 'output.txt' to store the output of the text from 'input.txt'\n",
    "### Sample output is shown below"
   ]
  },
  {
   "cell_type": "code",
   "execution_count": 13,
   "metadata": {},
   "outputs": [],
   "source": [
    "def number_of_word_and_lines_and_paragraphs(outfile, *argv, **kwargs):\n",
    "    for infile in argv:\n",
    "        f = open(infile, 'r')\n",
    "        out = open(outfile, 'a')\n",
    "        line_count = 0\n",
    "        paragraph_count = 0\n",
    "        word_count = 0\n",
    "        proper_space = True\n",
    "        capital_after_punc = True\n",
    "        out.write('\\nAnother Input\\nparas\\tlines\\twords\\tstring\\n')\n",
    "        for i in f:\n",
    "            for j in range(len(i)):\n",
    "                if (i[j] == '.' and not ((i[j - 1] == 'r' and i[j - 2] == 'M') or (i[j - 1] == 's' and i[j - 2] == 'M') or (i[j - 1] == 's' and i[j - 2] == 'r' and i[j - 3] == 'M'))) or (i[j] == '?'):\n",
    "                    line_count += 1\n",
    "                if j != len(i) - 1:\n",
    "                    if i[j] == '.' or i[j] == ',' or i[j] == '!' or i[j] == '?':\n",
    "                        if i[j + 1] != '\\n':\n",
    "                            if i[j + 1] != ' ':\n",
    "                                proper_space = False\n",
    "                            if i[j + 2].islower():\n",
    "                                capital_after_punc = False\n",
    "            if '\\n' in i:\n",
    "                paragraph_count += 1\n",
    "            word_count += len(i.split())\n",
    "            out.write('%-d\\t%d\\t%d\\t%s' % (paragraph_count, line_count, word_count, i))\n",
    "        f.close()\n",
    "        out.write(\"\\n\")\n",
    "        out.close()\n",
    "        print(word_count, line_count, paragraph_count + 1)"
   ]
  },
  {
   "cell_type": "code",
   "execution_count": 14,
   "metadata": {},
   "outputs": [
    {
     "name": "stdout",
     "output_type": "stream",
     "text": [
      "42 5 3\n",
      "19 3 2\n"
     ]
    }
   ],
   "source": [
    "number_of_word_and_lines_and_paragraphs('output.txt', 'input.txt', 'input2.txt')"
   ]
  },
  {
   "cell_type": "code",
   "execution_count": 15,
   "metadata": {},
   "outputs": [
    {
     "name": "stdout",
     "output_type": "stream",
     "text": [
      "\n",
      "\n",
      "Another Input\n",
      "\n",
      "paras\tlines\twords\tstring\n",
      "\n",
      "1\t2\t24\tThis is very big file. You need to enter sentences and the program will tell you to the number of words, lines and paragraphs.\n",
      "\n",
      "2\t5\t42\tYou can test it as you like. After all, this is my program. It will help you always.\n",
      "\n",
      "\n",
      "\n",
      "\n",
      "\n",
      "Another Input\n",
      "\n",
      "paras\tlines\twords\tstring\n",
      "\n",
      "1\t3\t19\tThis is input2.txt. We created this for the purpose of checking whether the program is running successfully or not.\n",
      "\n",
      "\n",
      "\n"
     ]
    }
   ],
   "source": [
    "f = open('output.txt', 'r')\n",
    "for i in f:\n",
    "    print(i)"
   ]
  },
  {
   "cell_type": "code",
   "execution_count": null,
   "metadata": {},
   "outputs": [],
   "source": []
  },
  {
   "cell_type": "code",
   "execution_count": null,
   "metadata": {},
   "outputs": [],
   "source": []
  }
 ],
 "metadata": {
  "kernelspec": {
   "display_name": "Python 3",
   "language": "python",
   "name": "python3"
  },
  "language_info": {
   "codemirror_mode": {
    "name": "ipython",
    "version": 3
   },
   "file_extension": ".py",
   "mimetype": "text/x-python",
   "name": "python",
   "nbconvert_exporter": "python",
   "pygments_lexer": "ipython3",
   "version": "3.7.9"
  }
 },
 "nbformat": 4,
 "nbformat_minor": 4
}
